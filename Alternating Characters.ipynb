{
 "cells": [
  {
   "cell_type": "markdown",
   "metadata": {},
   "source": [
    "Complete the alternatingCharacters function in the editor below. It must return an integer representing the minimum number of deletions to make the alternating string.\n",
    "\n",
    "alternatingCharacters has the following parameter(s):\n",
    "\n",
    "s: a string\n",
    "\n",
    "Sample Input\n",
    "\n",
    "5\n",
    "\n",
    "AAAA\n",
    "\n",
    "BBBBB\n",
    "\n",
    "ABABABAB\n",
    "\n",
    "BABABA\n",
    "\n",
    "AAABBB\n",
    "\n",
    "\n",
    "Sample Output\n",
    "\n",
    "3\n",
    "\n",
    "4\n",
    "\n",
    "0\n",
    "\n",
    "0\n",
    "\n",
    "4"
   ]
  },
  {
   "cell_type": "code",
   "execution_count": 58,
   "metadata": {},
   "outputs": [
    {
     "name": "stdout",
     "output_type": "stream",
     "text": [
      "5\n",
      "AAAAA\n",
      "4\n",
      "BBBBB\n",
      "4\n",
      "ABABABABABAB\n",
      "0\n",
      "BABABABABA\n",
      "0\n",
      "ABCAACCBBCDAA\n",
      "4\n"
     ]
    }
   ],
   "source": [
    "import math\n",
    "import os\n",
    "import random\n",
    "import re\n",
    "import sys\n",
    "\n",
    "# Complete the alternatingCharacters function below.\n",
    "def alternatingCharacters(s):\n",
    "    count = 0\n",
    "    pre_var = ''\n",
    "    for i in s:\n",
    "        if pre_var != i:\n",
    "            pre_var = i\n",
    "        else:\n",
    "            count += 1\n",
    "    return count\n",
    "\n",
    "if __name__ == '__main__':\n",
    "\n",
    "    q = int(input())\n",
    "\n",
    "    for q_itr in range(q):\n",
    "        s = input()\n",
    "        print(alternatingCharacters(s))"
   ]
  },
  {
   "cell_type": "code",
   "execution_count": null,
   "metadata": {},
   "outputs": [],
   "source": []
  }
 ],
 "metadata": {
  "kernelspec": {
   "display_name": "Python 3",
   "language": "python",
   "name": "python3"
  },
  "language_info": {
   "codemirror_mode": {
    "name": "ipython",
    "version": 3
   },
   "file_extension": ".py",
   "mimetype": "text/x-python",
   "name": "python",
   "nbconvert_exporter": "python",
   "pygments_lexer": "ipython3",
   "version": "3.7.6"
  }
 },
 "nbformat": 4,
 "nbformat_minor": 4
}
