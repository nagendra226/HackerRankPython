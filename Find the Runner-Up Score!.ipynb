{
 "cells": [
  {
   "cell_type": "markdown",
   "metadata": {},
   "source": [
    "Given the participants' score sheet for your University Sports Day, you are required to find the runner-up score. You are given \n",
    "\n",
    "scores. Store them in a list and find the score of the runner-up.\n",
    "\n",
    "Input Format\n",
    "\n",
    "The first line contains . The second line contains an array   of  integers each separated by a space.\n",
    "\n",
    "Constraints\n",
    "\n",
    "Output Format\n",
    "\n",
    "Print the runner-up score.\n",
    "\n",
    "Sample Input 0\n",
    "\n",
    "5\n",
    "\n",
    "2 3 6 6 5\n",
    "\n",
    "Sample Output 0\n",
    "\n",
    "5\n",
    "\n",
    "Explanation 0\n",
    "\n",
    "Given list is [2,3,6,5,6] . The maximum score is 6, second maximum is 5. Hence, we print  as the runner-up score."
   ]
  },
  {
   "cell_type": "code",
   "execution_count": 1,
   "metadata": {},
   "outputs": [
    {
     "name": "stdout",
     "output_type": "stream",
     "text": [
      "5\n",
      "2 3 6 5 6\n",
      "5\n"
     ]
    }
   ],
   "source": [
    "n = int(input())\n",
    "arr = list(map(int, input().split()))\n",
    "arr.sort()\n",
    "count_max = arr.count(arr[-1])\n",
    "if(count_max>1):\n",
    "    print(arr[-count_max-1])\n",
    "else:\n",
    "    arr.remove(max(arr))\n",
    "    print(max(arr))"
   ]
  },
  {
   "cell_type": "markdown",
   "metadata": {},
   "source": [
    "# Using Generators"
   ]
  },
  {
   "cell_type": "code",
   "execution_count": 2,
   "metadata": {},
   "outputs": [
    {
     "name": "stdout",
     "output_type": "stream",
     "text": [
      "12\n"
     ]
    }
   ],
   "source": [
    "arr = [1,2,3,4,6,7,8,9,10,11,15,12,15,12]\n",
    "def g1(arr):\n",
    "    new_arr = sorted(list(set(arr)))\n",
    "    for i in reversed(new_arr):\n",
    "        yield i\n",
    "        \n",
    "g2 = g1(arr)\n",
    "next(g2)\n",
    "print(next(g2))"
   ]
  },
  {
   "cell_type": "markdown",
   "metadata": {},
   "source": [
    "# Using Sets"
   ]
  },
  {
   "cell_type": "code",
   "execution_count": 3,
   "metadata": {},
   "outputs": [
    {
     "name": "stdout",
     "output_type": "stream",
     "text": [
      "15\n"
     ]
    }
   ],
   "source": [
    "arr = [1,2,3,4,6,7,8,9,10,11,15,12,15,12,12,15,16]\n",
    "new_arr = sorted(list(set(arr)),reverse = True)\n",
    "print(new_arr[1])"
   ]
  },
  {
   "cell_type": "code",
   "execution_count": null,
   "metadata": {},
   "outputs": [],
   "source": []
  }
 ],
 "metadata": {
  "kernelspec": {
   "display_name": "Python 3",
   "language": "python",
   "name": "python3"
  },
  "language_info": {
   "codemirror_mode": {
    "name": "ipython",
    "version": 3
   },
   "file_extension": ".py",
   "mimetype": "text/x-python",
   "name": "python",
   "nbconvert_exporter": "python",
   "pygments_lexer": "ipython3",
   "version": "3.7.6"
  }
 },
 "nbformat": 4,
 "nbformat_minor": 4
}
