{
 "cells": [
  {
   "cell_type": "markdown",
   "metadata": {},
   "source": [
    "You have a record of N students. Each record contains the student's name, and their percent marks in Maths, Physics and \n",
    "Chemistry. The marks can be floating values. The user enters some integer N followed by the names and marks for N students. You \n",
    "are required to save the record in a dictionary data type. The user then enters a student's name. Output the average percentage \n",
    "marks obtained by that student, correct to two decimal places.\n",
    "\n",
    "Input Format\n",
    "\n",
    "The first line contains the integer , the number of students. The next  lines contains the name and marks obtained by that student separated by a space. The final line contains the name of a particular student previously listed.\n",
    "\n",
    "Output Format\n",
    "\n",
    "Print one line: The average of the marks obtained by the particular student correct to 2 decimal places.\n",
    "\n",
    "Sample Input 0\n",
    "\n",
    "3\n",
    "\n",
    "Krishna 67 68 69\n",
    "\n",
    "Arjun 70 98 63\n",
    "\n",
    "Malika 52 56 60\n",
    "\n",
    "Malika\n",
    "\n",
    "Sample Output 0\n",
    "\n",
    "56.00"
   ]
  },
  {
   "cell_type": "code",
   "execution_count": 2,
   "metadata": {},
   "outputs": [
    {
     "name": "stdout",
     "output_type": "stream",
     "text": [
      "3\n",
      "Krishna 67 68 69\n",
      "Arjun 70 98 63\n",
      "Malika 52 56 60\n",
      "Arjun\n",
      "77.00\n"
     ]
    }
   ],
   "source": [
    "if __name__ == '__main__':\n",
    "    n = int(input())\n",
    "    student_marks = {}\n",
    "    for _ in range(n):\n",
    "        name, *line = input().split()\n",
    "        scores = list(map(float, line))\n",
    "        student_marks[name] = scores\n",
    "    query_name = input()\n",
    "    if(query_name in student_marks):\n",
    "        a = sum(student_marks[query_name])/len(student_marks[query_name])\n",
    "        print(f'{a:.2f}')"
   ]
  },
  {
   "cell_type": "code",
   "execution_count": null,
   "metadata": {},
   "outputs": [],
   "source": []
  }
 ],
 "metadata": {
  "kernelspec": {
   "display_name": "Python 3",
   "language": "python",
   "name": "python3"
  },
  "language_info": {
   "codemirror_mode": {
    "name": "ipython",
    "version": 3
   },
   "file_extension": ".py",
   "mimetype": "text/x-python",
   "name": "python",
   "nbconvert_exporter": "python",
   "pygments_lexer": "ipython3",
   "version": "3.7.6"
  }
 },
 "nbformat": 4,
 "nbformat_minor": 4
}
